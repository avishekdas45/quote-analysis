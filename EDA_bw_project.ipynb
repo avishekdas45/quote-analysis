{
 "cells": [
  {
   "cell_type": "markdown",
   "id": "f0cd0226-65e4-4810-9b62-65dd26668d6a",
   "metadata": {
    "jp-MarkdownHeadingCollapsed": true
   },
   "source": [
    "## Basic Cleaning Operation "
   ]
  },
  {
   "cell_type": "code",
   "execution_count": 5,
   "id": "a3294e34-ad1f-42ac-9092-37f9eb80a2fb",
   "metadata": {},
   "outputs": [],
   "source": [
    "import pandas as pd"
   ]
  },
  {
   "cell_type": "code",
   "execution_count": 7,
   "id": "668a5bd2-c05a-45de-8fc1-6b335e159544",
   "metadata": {},
   "outputs": [
    {
     "data": {
      "text/html": [
       "<div>\n",
       "<style scoped>\n",
       "    .dataframe tbody tr th:only-of-type {\n",
       "        vertical-align: middle;\n",
       "    }\n",
       "\n",
       "    .dataframe tbody tr th {\n",
       "        vertical-align: top;\n",
       "    }\n",
       "\n",
       "    .dataframe thead th {\n",
       "        text-align: right;\n",
       "    }\n",
       "</style>\n",
       "<table border=\"1\" class=\"dataframe\">\n",
       "  <thead>\n",
       "    <tr style=\"text-align: right;\">\n",
       "      <th></th>\n",
       "      <th>Author</th>\n",
       "      <th>Quote</th>\n",
       "      <th>Tag_Names</th>\n",
       "    </tr>\n",
       "  </thead>\n",
       "  <tbody>\n",
       "    <tr>\n",
       "      <th>0</th>\n",
       "      <td>Albert Einstein</td>\n",
       "      <td>“The world as we have created it is a process ...</td>\n",
       "      <td>change,deep-thoughts,thinking,world</td>\n",
       "    </tr>\n",
       "    <tr>\n",
       "      <th>1</th>\n",
       "      <td>J.K. Rowling</td>\n",
       "      <td>“It is our choices, Harry, that show what we t...</td>\n",
       "      <td>abilities,choices</td>\n",
       "    </tr>\n",
       "    <tr>\n",
       "      <th>2</th>\n",
       "      <td>Albert Einstein</td>\n",
       "      <td>“There are only two ways to live your life. On...</td>\n",
       "      <td>inspirational,life,live,miracle,miracles</td>\n",
       "    </tr>\n",
       "    <tr>\n",
       "      <th>3</th>\n",
       "      <td>Jane Austen</td>\n",
       "      <td>“The person, be it gentleman or lady, who has ...</td>\n",
       "      <td>aliteracy,books,classic,humor</td>\n",
       "    </tr>\n",
       "    <tr>\n",
       "      <th>4</th>\n",
       "      <td>Marilyn Monroe</td>\n",
       "      <td>“Imperfection is beauty, madness is genius and...</td>\n",
       "      <td>be-yourself,inspirational</td>\n",
       "    </tr>\n",
       "    <tr>\n",
       "      <th>...</th>\n",
       "      <td>...</td>\n",
       "      <td>...</td>\n",
       "      <td>...</td>\n",
       "    </tr>\n",
       "    <tr>\n",
       "      <th>95</th>\n",
       "      <td>Harper Lee</td>\n",
       "      <td>“You never really understand a person until yo...</td>\n",
       "      <td>better-life-empathy</td>\n",
       "    </tr>\n",
       "    <tr>\n",
       "      <th>96</th>\n",
       "      <td>Madeleine L'Engle</td>\n",
       "      <td>“You have to write the book that wants to be w...</td>\n",
       "      <td>books,children,difficult,grown-ups,write,write...</td>\n",
       "    </tr>\n",
       "    <tr>\n",
       "      <th>97</th>\n",
       "      <td>Mark Twain</td>\n",
       "      <td>“Never tell the truth to people who are not wo...</td>\n",
       "      <td>truth</td>\n",
       "    </tr>\n",
       "    <tr>\n",
       "      <th>98</th>\n",
       "      <td>Dr. Seuss</td>\n",
       "      <td>“A person's a person, no matter how small.”</td>\n",
       "      <td>inspirational</td>\n",
       "    </tr>\n",
       "    <tr>\n",
       "      <th>99</th>\n",
       "      <td>George R.R. Martin</td>\n",
       "      <td>“... a mind needs books as a sword needs a whe...</td>\n",
       "      <td>books,mind</td>\n",
       "    </tr>\n",
       "  </tbody>\n",
       "</table>\n",
       "<p>100 rows × 3 columns</p>\n",
       "</div>"
      ],
      "text/plain": [
       "                Author                                              Quote  \\\n",
       "0      Albert Einstein  “The world as we have created it is a process ...   \n",
       "1         J.K. Rowling  “It is our choices, Harry, that show what we t...   \n",
       "2      Albert Einstein  “There are only two ways to live your life. On...   \n",
       "3          Jane Austen  “The person, be it gentleman or lady, who has ...   \n",
       "4       Marilyn Monroe  “Imperfection is beauty, madness is genius and...   \n",
       "..                 ...                                                ...   \n",
       "95          Harper Lee  “You never really understand a person until yo...   \n",
       "96   Madeleine L'Engle  “You have to write the book that wants to be w...   \n",
       "97          Mark Twain  “Never tell the truth to people who are not wo...   \n",
       "98           Dr. Seuss        “A person's a person, no matter how small.”   \n",
       "99  George R.R. Martin  “... a mind needs books as a sword needs a whe...   \n",
       "\n",
       "                                            Tag_Names  \n",
       "0                 change,deep-thoughts,thinking,world  \n",
       "1                                   abilities,choices  \n",
       "2            inspirational,life,live,miracle,miracles  \n",
       "3                       aliteracy,books,classic,humor  \n",
       "4                           be-yourself,inspirational  \n",
       "..                                                ...  \n",
       "95                                better-life-empathy  \n",
       "96  books,children,difficult,grown-ups,write,write...  \n",
       "97                                              truth  \n",
       "98                                      inspirational  \n",
       "99                                         books,mind  \n",
       "\n",
       "[100 rows x 3 columns]"
      ]
     },
     "execution_count": 7,
     "metadata": {},
     "output_type": "execute_result"
    }
   ],
   "source": [
    "data= pd.read_csv('bw_project.csv')\n",
    "data"
   ]
  },
  {
   "cell_type": "markdown",
   "id": "e919dae1-f059-47da-be59-d69001de9515",
   "metadata": {},
   "source": [
    "###  Data Cleaning and Preprocessing"
   ]
  },
  {
   "cell_type": "code",
   "execution_count": 10,
   "id": "2b54e777-61dd-4b91-a939-3957bec4dec7",
   "metadata": {},
   "outputs": [
    {
     "name": "stdout",
     "output_type": "stream",
     "text": [
      "<class 'pandas.core.frame.DataFrame'>\n",
      "RangeIndex: 100 entries, 0 to 99\n",
      "Data columns (total 3 columns):\n",
      " #   Column     Non-Null Count  Dtype \n",
      "---  ------     --------------  ----- \n",
      " 0   Author     100 non-null    object\n",
      " 1   Quote      100 non-null    object\n",
      " 2   Tag_Names  97 non-null     object\n",
      "dtypes: object(3)\n",
      "memory usage: 2.5+ KB\n"
     ]
    }
   ],
   "source": [
    "data.info()"
   ]
  },
  {
   "cell_type": "markdown",
   "id": "58bd87ba-cc91-424e-be88-43243c039157",
   "metadata": {},
   "source": [
    "### Finding and TreatingNull values"
   ]
  },
  {
   "cell_type": "code",
   "execution_count": 13,
   "id": "682f2d59-02cc-4a9d-a6f3-7fd29441ce4a",
   "metadata": {},
   "outputs": [
    {
     "data": {
      "text/plain": [
       "Author       0\n",
       "Quote        0\n",
       "Tag_Names    3\n",
       "dtype: int64"
      ]
     },
     "execution_count": 13,
     "metadata": {},
     "output_type": "execute_result"
    }
   ],
   "source": [
    "data.isnull().sum()"
   ]
  },
  {
   "cell_type": "code",
   "execution_count": 15,
   "id": "3770a953-7529-4b41-bce9-3b410b2a6316",
   "metadata": {},
   "outputs": [
    {
     "name": "stderr",
     "output_type": "stream",
     "text": [
      "/var/folders/_b/vg48s07903s_dydp1hdd5qy40000gn/T/ipykernel_31111/1932579160.py:4: FutureWarning: A value is trying to be set on a copy of a DataFrame or Series through chained assignment using an inplace method.\n",
      "The behavior will change in pandas 3.0. This inplace method will never work because the intermediate object on which we are setting values always behaves as a copy.\n",
      "\n",
      "For example, when doing 'df[col].method(value, inplace=True)', try using 'df.method({col: value}, inplace=True)' or df[col] = df[col].method(value) instead, to perform the operation inplace on the original object.\n",
      "\n",
      "\n",
      "  data['Tag_Names'].fillna('Unknown', inplace=True)\n"
     ]
    },
    {
     "data": {
      "text/plain": [
       "0                   change,deep-thoughts,thinking,world\n",
       "1                                     abilities,choices\n",
       "2              inspirational,life,live,miracle,miracles\n",
       "3                         aliteracy,books,classic,humor\n",
       "4                             be-yourself,inspirational\n",
       "                            ...                        \n",
       "95                                  better-life-empathy\n",
       "96    books,children,difficult,grown-ups,write,write...\n",
       "97                                                truth\n",
       "98                                        inspirational\n",
       "99                                           books,mind\n",
       "Name: Tag_Names, Length: 100, dtype: object"
      ]
     },
     "execution_count": 15,
     "metadata": {},
     "output_type": "execute_result"
    }
   ],
   "source": [
    "# As Null value is 3% in the dataset we cant remove it. \n",
    "# fills in missing values (NaN) with Unknown. \n",
    "\n",
    "data['Tag_Names'].fillna('Unknown', inplace=True) \n",
    "data['Tag_Names']"
   ]
  },
  {
   "cell_type": "code",
   "execution_count": 17,
   "id": "42716a7d-c419-4eb2-a9e9-35dacad356ef",
   "metadata": {},
   "outputs": [
    {
     "name": "stdout",
     "output_type": "stream",
     "text": [
      "<class 'pandas.core.frame.DataFrame'>\n",
      "RangeIndex: 100 entries, 0 to 99\n",
      "Data columns (total 3 columns):\n",
      " #   Column     Non-Null Count  Dtype \n",
      "---  ------     --------------  ----- \n",
      " 0   Author     100 non-null    object\n",
      " 1   Quote      100 non-null    object\n",
      " 2   Tag_Names  100 non-null    object\n",
      "dtypes: object(3)\n",
      "memory usage: 2.5+ KB\n"
     ]
    }
   ],
   "source": [
    "data.info() # Null values treated successfully"
   ]
  },
  {
   "cell_type": "code",
   "execution_count": 19,
   "id": "b7d5376d-9e10-4f4f-92a9-8707e8c9103c",
   "metadata": {},
   "outputs": [
    {
     "data": {
      "text/html": [
       "<div>\n",
       "<style scoped>\n",
       "    .dataframe tbody tr th:only-of-type {\n",
       "        vertical-align: middle;\n",
       "    }\n",
       "\n",
       "    .dataframe tbody tr th {\n",
       "        vertical-align: top;\n",
       "    }\n",
       "\n",
       "    .dataframe thead th {\n",
       "        text-align: right;\n",
       "    }\n",
       "</style>\n",
       "<table border=\"1\" class=\"dataframe\">\n",
       "  <thead>\n",
       "    <tr style=\"text-align: right;\">\n",
       "      <th></th>\n",
       "      <th>Author</th>\n",
       "      <th>Quote</th>\n",
       "      <th>Tag_Names</th>\n",
       "    </tr>\n",
       "  </thead>\n",
       "  <tbody>\n",
       "    <tr>\n",
       "      <th>0</th>\n",
       "      <td>Albert Einstein</td>\n",
       "      <td>“The world as we have created it is a process ...</td>\n",
       "      <td>change,deep-thoughts,thinking,world</td>\n",
       "    </tr>\n",
       "    <tr>\n",
       "      <th>1</th>\n",
       "      <td>J.K. Rowling</td>\n",
       "      <td>“It is our choices, Harry, that show what we t...</td>\n",
       "      <td>abilities,choices</td>\n",
       "    </tr>\n",
       "    <tr>\n",
       "      <th>2</th>\n",
       "      <td>Albert Einstein</td>\n",
       "      <td>“There are only two ways to live your life. On...</td>\n",
       "      <td>inspirational,life,live,miracle,miracles</td>\n",
       "    </tr>\n",
       "    <tr>\n",
       "      <th>3</th>\n",
       "      <td>Jane Austen</td>\n",
       "      <td>“The person, be it gentleman or lady, who has ...</td>\n",
       "      <td>aliteracy,books,classic,humor</td>\n",
       "    </tr>\n",
       "    <tr>\n",
       "      <th>4</th>\n",
       "      <td>Marilyn Monroe</td>\n",
       "      <td>“Imperfection is beauty, madness is genius and...</td>\n",
       "      <td>be-yourself,inspirational</td>\n",
       "    </tr>\n",
       "  </tbody>\n",
       "</table>\n",
       "</div>"
      ],
      "text/plain": [
       "            Author                                              Quote  \\\n",
       "0  Albert Einstein  “The world as we have created it is a process ...   \n",
       "1     J.K. Rowling  “It is our choices, Harry, that show what we t...   \n",
       "2  Albert Einstein  “There are only two ways to live your life. On...   \n",
       "3      Jane Austen  “The person, be it gentleman or lady, who has ...   \n",
       "4   Marilyn Monroe  “Imperfection is beauty, madness is genius and...   \n",
       "\n",
       "                                  Tag_Names  \n",
       "0       change,deep-thoughts,thinking,world  \n",
       "1                         abilities,choices  \n",
       "2  inspirational,life,live,miracle,miracles  \n",
       "3             aliteracy,books,classic,humor  \n",
       "4                 be-yourself,inspirational  "
      ]
     },
     "execution_count": 19,
     "metadata": {},
     "output_type": "execute_result"
    }
   ],
   "source": [
    "data.head()"
   ]
  },
  {
   "cell_type": "markdown",
   "id": "3521afb5-a5f8-40e3-932f-9f10b3bba7ff",
   "metadata": {},
   "source": [
    "### Treat ' \"\" ' (quotations) from Quote column "
   ]
  },
  {
   "cell_type": "code",
   "execution_count": 22,
   "id": "f3a60706-a91b-4db1-ac64-2319ef03c307",
   "metadata": {},
   "outputs": [],
   "source": [
    "data[\"Quote\"] = data[\"Quote\"].str.replace('“', '')"
   ]
  },
  {
   "cell_type": "code",
   "execution_count": 24,
   "id": "43b603ee-1cd1-4495-a83d-963c90d5e634",
   "metadata": {},
   "outputs": [
    {
     "data": {
      "text/html": [
       "<div>\n",
       "<style scoped>\n",
       "    .dataframe tbody tr th:only-of-type {\n",
       "        vertical-align: middle;\n",
       "    }\n",
       "\n",
       "    .dataframe tbody tr th {\n",
       "        vertical-align: top;\n",
       "    }\n",
       "\n",
       "    .dataframe thead th {\n",
       "        text-align: right;\n",
       "    }\n",
       "</style>\n",
       "<table border=\"1\" class=\"dataframe\">\n",
       "  <thead>\n",
       "    <tr style=\"text-align: right;\">\n",
       "      <th></th>\n",
       "      <th>Author</th>\n",
       "      <th>Quote</th>\n",
       "      <th>Tag_Names</th>\n",
       "    </tr>\n",
       "  </thead>\n",
       "  <tbody>\n",
       "    <tr>\n",
       "      <th>0</th>\n",
       "      <td>Albert Einstein</td>\n",
       "      <td>The world as we have created it is a process o...</td>\n",
       "      <td>change,deep-thoughts,thinking,world</td>\n",
       "    </tr>\n",
       "    <tr>\n",
       "      <th>1</th>\n",
       "      <td>J.K. Rowling</td>\n",
       "      <td>It is our choices, Harry, that show what we tr...</td>\n",
       "      <td>abilities,choices</td>\n",
       "    </tr>\n",
       "    <tr>\n",
       "      <th>2</th>\n",
       "      <td>Albert Einstein</td>\n",
       "      <td>There are only two ways to live your life. One...</td>\n",
       "      <td>inspirational,life,live,miracle,miracles</td>\n",
       "    </tr>\n",
       "    <tr>\n",
       "      <th>3</th>\n",
       "      <td>Jane Austen</td>\n",
       "      <td>The person, be it gentleman or lady, who has n...</td>\n",
       "      <td>aliteracy,books,classic,humor</td>\n",
       "    </tr>\n",
       "    <tr>\n",
       "      <th>4</th>\n",
       "      <td>Marilyn Monroe</td>\n",
       "      <td>Imperfection is beauty, madness is genius and ...</td>\n",
       "      <td>be-yourself,inspirational</td>\n",
       "    </tr>\n",
       "    <tr>\n",
       "      <th>...</th>\n",
       "      <td>...</td>\n",
       "      <td>...</td>\n",
       "      <td>...</td>\n",
       "    </tr>\n",
       "    <tr>\n",
       "      <th>95</th>\n",
       "      <td>Harper Lee</td>\n",
       "      <td>You never really understand a person until you...</td>\n",
       "      <td>better-life-empathy</td>\n",
       "    </tr>\n",
       "    <tr>\n",
       "      <th>96</th>\n",
       "      <td>Madeleine L'Engle</td>\n",
       "      <td>You have to write the book that wants to be wr...</td>\n",
       "      <td>books,children,difficult,grown-ups,write,write...</td>\n",
       "    </tr>\n",
       "    <tr>\n",
       "      <th>97</th>\n",
       "      <td>Mark Twain</td>\n",
       "      <td>Never tell the truth to people who are not wor...</td>\n",
       "      <td>truth</td>\n",
       "    </tr>\n",
       "    <tr>\n",
       "      <th>98</th>\n",
       "      <td>Dr. Seuss</td>\n",
       "      <td>A person's a person, no matter how small.”</td>\n",
       "      <td>inspirational</td>\n",
       "    </tr>\n",
       "    <tr>\n",
       "      <th>99</th>\n",
       "      <td>George R.R. Martin</td>\n",
       "      <td>... a mind needs books as a sword needs a whet...</td>\n",
       "      <td>books,mind</td>\n",
       "    </tr>\n",
       "  </tbody>\n",
       "</table>\n",
       "<p>100 rows × 3 columns</p>\n",
       "</div>"
      ],
      "text/plain": [
       "                Author                                              Quote  \\\n",
       "0      Albert Einstein  The world as we have created it is a process o...   \n",
       "1         J.K. Rowling  It is our choices, Harry, that show what we tr...   \n",
       "2      Albert Einstein  There are only two ways to live your life. One...   \n",
       "3          Jane Austen  The person, be it gentleman or lady, who has n...   \n",
       "4       Marilyn Monroe  Imperfection is beauty, madness is genius and ...   \n",
       "..                 ...                                                ...   \n",
       "95          Harper Lee  You never really understand a person until you...   \n",
       "96   Madeleine L'Engle  You have to write the book that wants to be wr...   \n",
       "97          Mark Twain  Never tell the truth to people who are not wor...   \n",
       "98           Dr. Seuss         A person's a person, no matter how small.”   \n",
       "99  George R.R. Martin  ... a mind needs books as a sword needs a whet...   \n",
       "\n",
       "                                            Tag_Names  \n",
       "0                 change,deep-thoughts,thinking,world  \n",
       "1                                   abilities,choices  \n",
       "2            inspirational,life,live,miracle,miracles  \n",
       "3                       aliteracy,books,classic,humor  \n",
       "4                           be-yourself,inspirational  \n",
       "..                                                ...  \n",
       "95                                better-life-empathy  \n",
       "96  books,children,difficult,grown-ups,write,write...  \n",
       "97                                              truth  \n",
       "98                                      inspirational  \n",
       "99                                         books,mind  \n",
       "\n",
       "[100 rows x 3 columns]"
      ]
     },
     "execution_count": 24,
     "metadata": {},
     "output_type": "execute_result"
    }
   ],
   "source": [
    "# Quotations treated successfully\n",
    "data "
   ]
  },
  {
   "cell_type": "markdown",
   "id": "45532fed-21e2-4526-8a20-d30f8c1127ac",
   "metadata": {
    "jp-MarkdownHeadingCollapsed": true
   },
   "source": [
    "## Saving the Cleaned Data"
   ]
  },
  {
   "cell_type": "code",
   "execution_count": 27,
   "id": "0af4e28b-2511-400f-bfed-2826877a2921",
   "metadata": {},
   "outputs": [
    {
     "name": "stdout",
     "output_type": "stream",
     "text": [
      "Data has been saved to .csv format and file name is: 'bw_project_cleaned.csv'\n"
     ]
    }
   ],
   "source": [
    "data.to_csv('bw_project_cleaned.csv', index = False)\n",
    "print(\"Data has been saved to .csv format and file name is: 'bw_project_cleaned.csv'\")"
   ]
  },
  {
   "cell_type": "markdown",
   "id": "bb35ded8-c6e4-425d-9980-93d4eeeea217",
   "metadata": {},
   "source": [
    "## Insights from Dataset"
   ]
  },
  {
   "cell_type": "markdown",
   "id": "a99887d0-2f44-4c5c-9a8a-5e05a31d258c",
   "metadata": {},
   "source": [
    "### No. of Unique Authors and their names"
   ]
  },
  {
   "cell_type": "code",
   "execution_count": 31,
   "id": "6efcbde7-0cbb-4f5f-9b4c-87d0c8d15e95",
   "metadata": {},
   "outputs": [
    {
     "data": {
      "text/plain": [
       "50"
      ]
     },
     "execution_count": 31,
     "metadata": {},
     "output_type": "execute_result"
    }
   ],
   "source": [
    "data['Author'].nunique()"
   ]
  },
  {
   "cell_type": "code",
   "execution_count": 33,
   "id": "eb5db5b7-4ff7-4137-9bd1-dd0b0bbc3cc8",
   "metadata": {},
   "outputs": [
    {
     "data": {
      "text/plain": [
       "array(['Albert Einstein', 'J.K. Rowling', 'Jane Austen', 'Marilyn Monroe',\n",
       "       'André Gide', 'Thomas A. Edison', 'Eleanor Roosevelt',\n",
       "       'Steve Martin', 'Bob Marley', 'Dr. Seuss', 'Douglas Adams',\n",
       "       'Elie Wiesel', 'Friedrich Nietzsche', 'Mark Twain',\n",
       "       'Allen Saunders', 'Pablo Neruda', 'Ralph Waldo Emerson',\n",
       "       'Mother Teresa', 'Garrison Keillor', 'Jim Henson',\n",
       "       'Charles M. Schulz', 'William Nicholson', 'Jorge Luis Borges',\n",
       "       'George Eliot', 'George R.R. Martin', 'C.S. Lewis',\n",
       "       'Martin Luther King Jr.', 'James Baldwin', 'Haruki Murakami',\n",
       "       'Alexandre Dumas fils', 'Stephenie Meyer', 'Ernest Hemingway',\n",
       "       'Helen Keller', 'George Bernard Shaw', 'Charles Bukowski',\n",
       "       'Suzanne Collins', 'J.R.R. Tolkien', 'Alfred Tennyson',\n",
       "       'Terry Pratchett', 'J.D. Salinger', 'George Carlin', 'John Lennon',\n",
       "       'W.C. Fields', 'Ayn Rand', 'Jimi Hendrix', 'J.M. Barrie',\n",
       "       'E.E. Cummings', 'Khaled Hosseini', 'Harper Lee',\n",
       "       \"Madeleine L'Engle\"], dtype=object)"
      ]
     },
     "execution_count": 33,
     "metadata": {},
     "output_type": "execute_result"
    }
   ],
   "source": [
    "data['Author'].unique()"
   ]
  },
  {
   "cell_type": "markdown",
   "id": "c8aab8f2-03f9-4eb1-9d30-762cd8ceb809",
   "metadata": {},
   "source": [
    "### No of Unique Tags"
   ]
  },
  {
   "cell_type": "code",
   "execution_count": 36,
   "id": "2a7062f8-b0d2-4346-91a4-1c8ce421dde4",
   "metadata": {},
   "outputs": [
    {
     "data": {
      "text/plain": [
       "138"
      ]
     },
     "execution_count": 36,
     "metadata": {},
     "output_type": "execute_result"
    }
   ],
   "source": [
    "all_tags = data[\"Tag_Names\"].str.split(\",\")\n",
    "tag_counts = pd.Series([tag.strip() for tags in all_tags for tag in tags]).nunique()\n",
    "tag_counts"
   ]
  },
  {
   "cell_type": "markdown",
   "id": "40422c01-8d1b-4489-904f-a017ae8b63bf",
   "metadata": {},
   "source": [
    "### Author who wrote maximum Quotes"
   ]
  },
  {
   "cell_type": "code",
   "execution_count": 39,
   "id": "d8aeddf1-c9e3-4e3d-adca-38350c4f1427",
   "metadata": {
    "scrolled": true
   },
   "outputs": [
    {
     "name": "stdout",
     "output_type": "stream",
     "text": [
      "Author\n",
      "Albert Einstein           10\n",
      "Alexandre Dumas fils       1\n",
      "Alfred Tennyson            1\n",
      "Allen Saunders             1\n",
      "André Gide                 1\n",
      "Ayn Rand                   1\n",
      "Bob Marley                 3\n",
      "C.S. Lewis                 5\n",
      "Charles Bukowski           2\n",
      "Charles M. Schulz          1\n",
      "Douglas Adams              1\n",
      "Dr. Seuss                  6\n",
      "E.E. Cummings              1\n",
      "Eleanor Roosevelt          2\n",
      "Elie Wiesel                1\n",
      "Ernest Hemingway           2\n",
      "Friedrich Nietzsche        1\n",
      "Garrison Keillor           1\n",
      "George Bernard Shaw        1\n",
      "George Carlin              1\n",
      "George Eliot               1\n",
      "George R.R. Martin         2\n",
      "Harper Lee                 1\n",
      "Haruki Murakami            1\n",
      "Helen Keller               1\n",
      "J.D. Salinger              1\n",
      "J.K. Rowling               9\n",
      "J.M. Barrie                1\n",
      "J.R.R. Tolkien             1\n",
      "James Baldwin              1\n",
      "Jane Austen                5\n",
      "Jim Henson                 1\n",
      "Jimi Hendrix               1\n",
      "John Lennon                1\n",
      "Jorge Luis Borges          1\n",
      "Khaled Hosseini            1\n",
      "Madeleine L'Engle          1\n",
      "Marilyn Monroe             7\n",
      "Mark Twain                 6\n",
      "Martin Luther King Jr.     1\n",
      "Mother Teresa              2\n",
      "Pablo Neruda               1\n",
      "Ralph Waldo Emerson        2\n",
      "Stephenie Meyer            1\n",
      "Steve Martin               1\n",
      "Suzanne Collins            2\n",
      "Terry Pratchett            1\n",
      "Thomas A. Edison           1\n",
      "W.C. Fields                1\n",
      "William Nicholson          1\n",
      "Name: Quote, dtype: int64\n"
     ]
    }
   ],
   "source": [
    "no_ofQuotes = data.groupby(['Author'])['Quote'].count()\n",
    "print(no_ofQuotes)"
   ]
  },
  {
   "cell_type": "markdown",
   "id": "bd76dd2a-d81f-4a26-9b29-650bd516ccc6",
   "metadata": {},
   "source": [
    "### Find the number of quotes by each author"
   ]
  },
  {
   "cell_type": "code",
   "execution_count": 42,
   "id": "ba41fc2a-cbba-44d0-8110-7a2e82d103fe",
   "metadata": {
    "scrolled": true
   },
   "outputs": [
    {
     "name": "stdout",
     "output_type": "stream",
     "text": [
      "Author\n",
      "Albert Einstein           10\n",
      "Alexandre Dumas fils       1\n",
      "Alfred Tennyson            1\n",
      "Allen Saunders             1\n",
      "André Gide                 1\n",
      "Ayn Rand                   1\n",
      "Bob Marley                 3\n",
      "C.S. Lewis                 5\n",
      "Charles Bukowski           2\n",
      "Charles M. Schulz          1\n",
      "Douglas Adams              1\n",
      "Dr. Seuss                  6\n",
      "E.E. Cummings              1\n",
      "Eleanor Roosevelt          2\n",
      "Elie Wiesel                1\n",
      "Ernest Hemingway           2\n",
      "Friedrich Nietzsche        1\n",
      "Garrison Keillor           1\n",
      "George Bernard Shaw        1\n",
      "George Carlin              1\n",
      "George Eliot               1\n",
      "George R.R. Martin         2\n",
      "Harper Lee                 1\n",
      "Haruki Murakami            1\n",
      "Helen Keller               1\n",
      "J.D. Salinger              1\n",
      "J.K. Rowling               9\n",
      "J.M. Barrie                1\n",
      "J.R.R. Tolkien             1\n",
      "James Baldwin              1\n",
      "Jane Austen                5\n",
      "Jim Henson                 1\n",
      "Jimi Hendrix               1\n",
      "John Lennon                1\n",
      "Jorge Luis Borges          1\n",
      "Khaled Hosseini            1\n",
      "Madeleine L'Engle          1\n",
      "Marilyn Monroe             7\n",
      "Mark Twain                 6\n",
      "Martin Luther King Jr.     1\n",
      "Mother Teresa              2\n",
      "Pablo Neruda               1\n",
      "Ralph Waldo Emerson        2\n",
      "Stephenie Meyer            1\n",
      "Steve Martin               1\n",
      "Suzanne Collins            2\n",
      "Terry Pratchett            1\n",
      "Thomas A. Edison           1\n",
      "W.C. Fields                1\n",
      "William Nicholson          1\n",
      "Name: Quote, dtype: int64\n"
     ]
    }
   ],
   "source": [
    "no_ofQuotes = data.groupby(['Author'])['Quote'].count()\n",
    "print(no_ofQuotes)"
   ]
  },
  {
   "cell_type": "markdown",
   "id": "d620446e-cae7-4e5d-a1ff-7f72189b40c8",
   "metadata": {},
   "source": [
    "### List the top 5 most common tags."
   ]
  },
  {
   "cell_type": "code",
   "execution_count": 45,
   "id": "960ecdc9-6dad-465b-a9e7-061ae8b14df9",
   "metadata": {},
   "outputs": [
    {
     "name": "stdout",
     "output_type": "stream",
     "text": [
      "love             14\n",
      "inspirational    13\n",
      "life             13\n",
      "humor            12\n",
      "books            11\n",
      "Name: count, dtype: int64\n"
     ]
    }
   ],
   "source": [
    "# IF breaks the tag_counts part: \n",
    "# for tags in all_tags:\n",
    "#    for tag in tags:\n",
    "#        tag.strip()\n",
    "# pd.Serise is a one-dimensional labeled array in Pandas that can store any data type, such as numbers, strings, or even Python objects. Counting values, Storing a single column of data separately, Performing calculations on a single column.\n",
    "\n",
    "all_tags = data[\"Tag_Names\"].str.split(\",\")\n",
    "tag_counts = pd.Series([tag.strip() for tags in all_tags for tag in tags]).value_counts()\n",
    "top_5_tags = tag_counts.head(5)\n",
    "print(top_5_tags)"
   ]
  },
  {
   "cell_type": "markdown",
   "id": "392e7da2-564d-4040-b8b0-793abb95c8c0",
   "metadata": {},
   "source": [
    "### Find authors who have more than 5 quotes."
   ]
  },
  {
   "cell_type": "code",
   "execution_count": 48,
   "id": "164adc3d-3b95-4dec-b417-436594f18972",
   "metadata": {},
   "outputs": [
    {
     "data": {
      "text/plain": [
       "Author\n",
       "Albert Einstein    10\n",
       "J.K. Rowling        9\n",
       "Marilyn Monroe      7\n",
       "Mark Twain          6\n",
       "Dr. Seuss           6\n",
       "Name: Quote, dtype: int64"
      ]
     },
     "execution_count": 48,
     "metadata": {},
     "output_type": "execute_result"
    }
   ],
   "source": [
    "more_than_fiveQuotes = data.groupby(['Author'])['Quote'].count()\n",
    "sort_quotes = more_than_fiveQuotes.sort_values(ascending=False)\n",
    "sort_quotes = sort_quotes[sort_quotes>5]\n",
    "sort_quotes"
   ]
  },
  {
   "cell_type": "markdown",
   "id": "f53a9463-728b-40ff-9036-20ba4a4ba0f7",
   "metadata": {},
   "source": [
    "### Retrieve the longest quote and its author."
   ]
  },
  {
   "cell_type": "code",
   "execution_count": 51,
   "id": "9aa9b207-8e17-4f20-a61b-80143d73256d",
   "metadata": {
    "scrolled": true
   },
   "outputs": [
    {
     "data": {
      "text/plain": [
       "Author\n",
       "Marilyn Monroe            201\n",
       "Bob Marley                138\n",
       "C.S. Lewis                 92\n",
       "Pablo Neruda               66\n",
       "Jane Austen                59\n",
       "Ralph Waldo Emerson        52\n",
       "J.D. Salinger              47\n",
       "J.K. Rowling               46\n",
       "Charles Bukowski           44\n",
       "Dr. Seuss                  41\n",
       "Elie Wiesel                37\n",
       "Helen Keller               31\n",
       "Albert Einstein            31\n",
       "Jim Henson                 27\n",
       "James Baldwin              27\n",
       "Madeleine L'Engle          27\n",
       "Harper Lee                 27\n",
       "John Lennon                25\n",
       "Jimi Hendrix               25\n",
       "Terry Pratchett            24\n",
       "Garrison Keillor           24\n",
       "Mark Twain                 22\n",
       "Douglas Adams              22\n",
       "Haruki Murakami            20\n",
       "André Gide                 19\n",
       "Eleanor Roosevelt          19\n",
       "George R.R. Martin         19\n",
       "Alfred Tennyson            18\n",
       "Suzanne Collins            17\n",
       "Mother Teresa              17\n",
       "Friedrich Nietzsche        16\n",
       "George Carlin              16\n",
       "Ernest Hemingway           16\n",
       "Ayn Rand                   16\n",
       "Charles M. Schulz          14\n",
       "Khaled Hosseini            13\n",
       "Jorge Luis Borges          12\n",
       "George Eliot               12\n",
       "Allen Saunders             12\n",
       "E.E. Cummings              12\n",
       "Thomas A. Edison           12\n",
       "Alexandre Dumas fils       11\n",
       "W.C. Fields                11\n",
       "George Bernard Shaw        10\n",
       "Martin Luther King Jr.      9\n",
       "Steve Martin                9\n",
       "J.M. Barrie                 8\n",
       "Stephenie Meyer             7\n",
       "J.R.R. Tolkien              7\n",
       "William Nicholson           7\n",
       "Name: length_quote, dtype: int64"
      ]
     },
     "execution_count": 51,
     "metadata": {},
     "output_type": "execute_result"
    }
   ],
   "source": [
    "data['length_quote'] = data[\"Quote\"].str.split(' ').apply(len)\n",
    "longest_quote= data.groupby(['Author'])['length_quote'].max()\n",
    "longest_quote.sort_values(ascending = False)"
   ]
  },
  {
   "cell_type": "code",
   "execution_count": null,
   "id": "660878c1-ee5e-46b0-b9b5-7483888ff822",
   "metadata": {},
   "outputs": [],
   "source": []
  },
  {
   "cell_type": "code",
   "execution_count": null,
   "id": "13f89a19-c58d-4e7d-9ab0-243e9195f27a",
   "metadata": {},
   "outputs": [],
   "source": []
  }
 ],
 "metadata": {
  "kernelspec": {
   "display_name": "Python [conda env:base] *",
   "language": "python",
   "name": "conda-base-py"
  },
  "language_info": {
   "codemirror_mode": {
    "name": "ipython",
    "version": 3
   },
   "file_extension": ".py",
   "mimetype": "text/x-python",
   "name": "python",
   "nbconvert_exporter": "python",
   "pygments_lexer": "ipython3",
   "version": "3.12.7"
  }
 },
 "nbformat": 4,
 "nbformat_minor": 5
}
